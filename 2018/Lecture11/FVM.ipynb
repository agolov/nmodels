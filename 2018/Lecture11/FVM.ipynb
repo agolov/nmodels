{
 "cells": [
  {
   "cell_type": "code",
   "execution_count": 2,
   "metadata": {
    "collapsed": true
   },
   "outputs": [],
   "source": [
    "from scipy.sparse import lil_matrix\n",
    "from scipy.sparse.linalg import spsolve\n",
    "from scipy.interpolate import LinearNDInterpolator"
   ]
  },
  {
   "cell_type": "code",
   "execution_count": null,
   "metadata": {},
   "outputs": [],
   "source": [
    "A = lil_matrix((len(tri.simplices), len(tri.simplices)))\n",
    "b = zeros(len(tri.simplices))\n",
    "\n",
    "for i in range(len(tri.simplices)):\n",
    "    for j in range(3):\n",
    "        nei = tri.neighbors[i][j]\n",
    "        #border\n",
    "        if nei == -1:\n",
    "            \n",
    "        \n",
    "        #electrode\n",
    "        elif :\n",
    "           \n",
    "        \n",
    "        #internal cell\n",
    "        else:\n",
    "            \n",
    "           \n",
    "\n",
    "sltn_v=spsolve(A,b)\n",
    "solution=LinearNDInterpolator(centers,sltn_v)\n",
    "X,Y=mgrid[-30:30,-15:15]\n",
    "plt.imshow(solution(-X,Y).T)\n"
   ]
  },
  {
   "cell_type": "code",
   "execution_count": null,
   "metadata": {
    "collapsed": true
   },
   "outputs": [],
   "source": []
  }
 ],
 "metadata": {
  "kernelspec": {
   "display_name": "Python 3",
   "language": "python",
   "name": "python3"
  },
  "language_info": {
   "codemirror_mode": {
    "name": "ipython",
    "version": 3
   },
   "file_extension": ".py",
   "mimetype": "text/x-python",
   "name": "python",
   "nbconvert_exporter": "python",
   "pygments_lexer": "ipython3",
   "version": "3.6.1"
  }
 },
 "nbformat": 4,
 "nbformat_minor": 2
}
